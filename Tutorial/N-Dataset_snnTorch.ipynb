{
 "cells": [
  {
   "cell_type": "markdown",
   "metadata": {},
   "source": [
    "# Tutorial 7 - Neuromorphic Datasets with Tonic + snnTroch\n",
    "\n",
    "## Learn how to\n",
    "- load neuromorphic datasets using Tonic\n",
    "- make use of chaching to speed up dataloading\n",
    "- train a ConvSNN with the N-MNIST dataset\n",
    "\n",
    "> Tonin 라이브러리를 활용하여 Neuromorphic 데이터셋을 로드하고 학습하는 과정에 대해 알아본다."
   ]
  },
  {
   "cell_type": "markdown",
   "metadata": {},
   "source": [
    "# 1. Using Tonic to load Neuromorphic datasets\n",
    "\n",
    "Tonic 라이브러리는 Pytorch vision과 비슷하게 작동한다. Tonic을 사용하여 N-MNIST와 같은 neuromorphic 데이터셋을 로드할 수 있다."
   ]
  },
  {
   "cell_type": "code",
   "execution_count": 1,
   "metadata": {},
   "outputs": [
    {
     "name": "stderr",
     "output_type": "stream",
     "text": [
      "/home/user/python_ws/SNN-Torch-Practice/lib/python3.8/site-packages/tqdm/auto.py:22: TqdmWarning: IProgress not found. Please update jupyter and ipywidgets. See https://ipywidgets.readthedocs.io/en/stable/user_install.html\n",
      "  from .autonotebook import tqdm as notebook_tqdm\n"
     ]
    },
    {
     "name": "stdout",
     "output_type": "stream",
     "text": [
      "[( 0, 30,   1213, 1) ( 9, 18,   4044, 0) (30, 15,   4104, 1) ...\n",
      " ( 9, 17, 301658, 0) (18,  8, 305112, 1) (19, 26, 309976, 1)]\n",
      "<class 'numpy.ndarray'>\n",
      "(3913,)\n",
      "<class 'tonic.datasets.nmnist.NMNIST'> 60000 <class 'tuple'> (array([( 0, 30,   1213, 1), ( 9, 18,   4044, 0), (30, 15,   4104, 1), ...,\n",
      "       ( 9, 17, 301658, 0), (18,  8, 305112, 1), (19, 26, 309976, 1)],\n",
      "      dtype=[('x', '<i8'), ('y', '<i8'), ('t', '<i8'), ('p', '<i8')]), 9)\n",
      "9\n"
     ]
    }
   ],
   "source": [
    "import tonic\n",
    "import numpy as np\n",
    "\n",
    "dataset = tonic.datasets.NMNIST(save_to='./data', train=True)       # 9~0, total 60,000\n",
    "events, target = dataset[0]\n",
    "print(events)       # [(x,y,timestamp,polarity), (x,y,timestamp,polarity), ...]\n",
    "print(type(events))\n",
    "print(np.shape(events))\n",
    "print(type(dataset), len(dataset), type(dataset[0]), dataset[0])\n",
    "print(target)"
   ]
  },
  {
   "cell_type": "markdown",
   "metadata": {},
   "source": [
    "위와 같이 N-MNIST 데이터셋을 로드할 수 있다. MNIST와 동일하게 총 6만장의 이미지가 있으며, 각 이미지들을 $ms$ 단위의 event들로 재생성한 것이다. events는 수천개 이벤트들의 리스트이고, 하나의 이벤트는 (x, y, timestamp, polarity)로 표현된다. *polarity* 는 $+1\\ or\\ -1$ 이며, 빛의 밝기가 밝아지거나 어두워지거나 둘 중 하나이다."
   ]
  },
  {
   "cell_type": "code",
   "execution_count": 2,
   "metadata": {},
   "outputs": [
    {
     "data": {
      "image/png": "[encoded data removed]",
      "text/plain": [
       "<Figure size 640x480 with 3 Axes>"
      ]
     },
     "metadata": {},
     "output_type": "display_data"
    }
   ],
   "source": [
    "tonic.utils.plot_event_grid(events)"
   ]
  },
  {
   "cell_type": "markdown",
   "metadata": {},
   "source": [
    "## 1.1 Transformation\n",
    "위와 같은 raw 데이터를 네트워크의 입력으로 사용할 수 없다. Pytorch dataset과 비슷하게 텐서로의 변환 과정이 필요하다."
   ]
  },
  {
   "cell_type": "code",
   "execution_count": 3,
   "metadata": {},
   "outputs": [],
   "source": [
    "import tonic.transforms as transforms\n",
    "\n",
    "sensor_size = tonic.datasets.NMNIST.sensor_size\n",
    "\n",
    "# Denoise removes isolated, one-off events\n",
    "# time-window\n",
    "frame_transform = transforms.Compose([transforms.Denoise(filter_time=10000), \n",
    "                                      transforms.ToFrame(sensor_size=sensor_size, time_window=1000)])\n",
    "\n",
    "trainset = tonic.datasets.NMNIST(save_to='./data', transform=frame_transform, train=True)\n",
    "testset  = tonic.datasets.NMNIST(save_to='./data', transform=frame_transform, train=False)"
   ]
  },
  {
   "cell_type": "markdown",
   "metadata": {},
   "source": [
    "## 1.2 Fast data loading via caching\n",
    "데이터 캐싱을 통해 데이터를 로드하는데 시간을 줄일 수 있다."
   ]
  },
  {
   "cell_type": "code",
   "execution_count": 4,
   "metadata": {},
   "outputs": [
    {
     "name": "stdout",
     "output_type": "stream",
     "text": [
      "467 ms ± 4.93 ms per loop (mean ± std. dev. of 7 runs, 1 loop each)\n"
     ]
    },
    {
     "data": {
      "text/plain": [
       "<TimeitResult : 467 ms ± 4.93 ms per loop (mean ± std. dev. of 7 runs, 1 loop each)>"
      ]
     },
     "execution_count": 4,
     "metadata": {},
     "output_type": "execute_result"
    }
   ],
   "source": [
    "def load_sample_simple():\n",
    "    for i in range(100):\n",
    "        events, target = trainset[i]\n",
    "        \n",
    "%timeit -o load_sample_simple()"
   ]
  },
  {
   "cell_type": "markdown",
   "metadata": {},
   "source": [
    "Pytorch DataLoader와 디스크 캐싱을 통해 위 시간을 줄일 수 있다."
   ]
  },
  {
   "cell_type": "code",
   "execution_count": 5,
   "metadata": {},
   "outputs": [
    {
     "name": "stderr",
     "output_type": "stream",
     "text": [
      "/tmp/ipykernel_14558/1546661115.py:4: DeprecationWarning: CachedDataset is deprecated and will be removed in a future release. It currently points to DiskCachedDataset to distinguish it from MemoryCachedDataset. Documentation available under https://tonic.readthedocs.io/en/latest/reference/data_classes.html#caching\n",
      "  cached_trainset   = CachedDataset(trainset, cache_path='./cache/nmist/train')\n"
     ]
    },
    {
     "name": "stdout",
     "output_type": "stream",
     "text": [
      "221 ms ± 4.51 ms per loop (mean ± std. dev. of 20 runs, 1 loop each)\n"
     ]
    },
    {
     "data": {
      "text/plain": [
       "<TimeitResult : 221 ms ± 4.51 ms per loop (mean ± std. dev. of 20 runs, 1 loop each)>"
      ]
     },
     "execution_count": 5,
     "metadata": {},
     "output_type": "execute_result"
    }
   ],
   "source": [
    "from torch.utils.data import DataLoader\n",
    "from tonic import CachedDataset\n",
    "\n",
    "cached_trainset   = CachedDataset(trainset, cache_path='./cache/nmist/train')\n",
    "cached_dataloader = DataLoader(cached_trainset)\n",
    "\n",
    "def load_sample_cached():\n",
    "    for i, (events, target) in enumerate(iter(cached_dataloader)):\n",
    "        if i > 99: break\n",
    "        \n",
    "%timeit -o -r 20 load_sample_cached()"
   ]
  },
  {
   "cell_type": "markdown",
   "metadata": {},
   "source": [
    "## 1.3 Even faster dataloading via batching\n",
    "\n",
    "데이터 로딩 시간을 줄였다. 이제 GPU를 더욱 효율적으로 사용하기 위해 batching 한다.\n",
    "\n",
    "각각의 이벤트들은 기록 시간이 모두 다르기 때문에, **tonic.collation.PadTensors()** 함수를 사용하여 batch 내부의 모든 데이터들이 같은 디멘션을 가질 수 있도록해준다. 기록 시간이 짧은 것들을 pad out하는 방식을 사용한다."
   ]
  },
  {
   "cell_type": "code",
   "execution_count": 6,
   "metadata": {},
   "outputs": [
    {
     "name": "stdout",
     "output_type": "stream",
     "text": [
      "3.79 ms ± 5.87 µs per loop (mean ± std. dev. of 10 runs, 100 loops each)\n"
     ]
    },
    {
     "data": {
      "text/plain": [
       "<TimeitResult : 3.79 ms ± 5.87 µs per loop (mean ± std. dev. of 10 runs, 100 loops each)>"
      ]
     },
     "execution_count": 6,
     "metadata": {},
     "output_type": "execute_result"
    }
   ],
   "source": [
    "batch_size = 100\n",
    "\n",
    "trainloader = DataLoader(cached_trainset, batch_size=batch_size, collate_fn=tonic.collation.PadTensors())\n",
    "\n",
    "def load_sample_batched():\n",
    "    events, target = next(iter(cached_dataloader))\n",
    "    \n",
    "%timeit -o -r 10 load_sample_batched()"
   ]
  },
  {
   "cell_type": "markdown",
   "metadata": {},
   "source": [
    "# 2. Training our network using frames created from events\n",
    "\n",
    "Training data에 augmentation을 적용하고자 한다. 캐싱된 데이터셋에서 가져온 샘플들은 프레임(텐서)이기 때문에, torchvision을 적용할 수 있다."
   ]
  },
  {
   "cell_type": "code",
   "execution_count": 7,
   "metadata": {},
   "outputs": [
    {
     "name": "stderr",
     "output_type": "stream",
     "text": [
      "/tmp/ipykernel_14558/1859081736.py:7: DeprecationWarning: CachedDataset is deprecated and will be removed in a future release. It currently points to DiskCachedDataset to distinguish it from MemoryCachedDataset. Documentation available under https://tonic.readthedocs.io/en/latest/reference/data_classes.html#caching\n",
      "  cached_trainset = CachedDataset(trainset, transform=transform, cache_path='./cache/nmist/train')\n",
      "/tmp/ipykernel_14558/1859081736.py:9: DeprecationWarning: CachedDataset is deprecated and will be removed in a future release. It currently points to DiskCachedDataset to distinguish it from MemoryCachedDataset. Documentation available under https://tonic.readthedocs.io/en/latest/reference/data_classes.html#caching\n",
      "  cached_testset  = CachedDataset(testset, cache_path='./cache/nmist/test')\n"
     ]
    }
   ],
   "source": [
    "import torch\n",
    "import torchvision\n",
    "\n",
    "transform = tonic.transforms.Compose([torch.from_numpy, \n",
    "                                      torchvision.transforms.RandomRotation([-10, 10])])\n",
    "\n",
    "cached_trainset = CachedDataset(trainset, transform=transform, cache_path='./cache/nmist/train')\n",
    "# No augmentation for the testset\n",
    "cached_testset  = CachedDataset(testset, cache_path='./cache/nmist/test')\n",
    "\n",
    "batch_size  = 128\n",
    "trainloader = DataLoader(cached_trainset, batch_size=batch_size, collate_fn=tonic.collation.PadTensors(), shuffle=True)\n",
    "testloader  = DataLoader(cached_testset, batch_size=batch_size, collate_fn=tonic.collation.PadTensors())"
   ]
  },
  {
   "cell_type": "markdown",
   "metadata": {},
   "source": [
    "하나의 미니배치는 다음과 같은 파일 포맷을 가진다.\n",
    "\n",
    "> (batch_size, time_steps, channels, height, width)\n",
    "\n",
    "여기서 *time_steps*는 미니배치에 있는 데이터 중 이벤트의 길이가 가장 긴 데이터에 맞춰진다. 그리고 다른 데이터들의 모자란 부붙은 0으로 채워진다."
   ]
  },
  {
   "cell_type": "code",
   "execution_count": 8,
   "metadata": {},
   "outputs": [
    {
     "name": "stdout",
     "output_type": "stream",
     "text": [
      "torch.Size([128, 311, 2, 34, 34])\n"
     ]
    }
   ],
   "source": [
    "event_tensor, target = next(iter(trainloader))\n",
    "print(event_tensor.shape)"
   ]
  },
  {
   "cell_type": "markdown",
   "metadata": {},
   "source": [
    "## 2.1 Defining our network\n",
    "\n",
    "Pytorch와 snnTorch를 사용하여 ConvSNN을 설계한다. 아키텍처는 다음과 같다.\n",
    "\n",
    "> 12C5-MP2-32C5-MP2-800FC10"
   ]
  },
  {
   "cell_type": "code",
   "execution_count": 9,
   "metadata": {},
   "outputs": [],
   "source": [
    "import snntorch as snn\n",
    "from snntorch import surrogate, utils\n",
    "from snntorch import functional as SF\n",
    "from snntorch import spikeplot as splt\n",
    "\n",
    "import torch.nn as nn"
   ]
  },
  {
   "cell_type": "code",
   "execution_count": 10,
   "metadata": {},
   "outputs": [],
   "source": [
    "device = torch.device('cuda') if torch.cuda.is_available() else torch.device('cpu')\n",
    "\n",
    "# Neuron and simulation params\n",
    "spike_grad = surrogate.fast_sigmoid(slope=75)\n",
    "beta       = 0.5\n",
    "\n",
    "# Initialize Network\n",
    "net = nn.Sequential(nn.Conv2d(2, 12, 5), \n",
    "                    nn.MaxPool2d(2), \n",
    "                    snn.Leaky(beta=beta, spike_grad=spike_grad, init_hidden=True), \n",
    "                    nn.Conv2d(12, 32, 5), \n",
    "                    nn.MaxPool2d(2), \n",
    "                    snn.Leaky(beta=beta, spike_grad=spike_grad, init_hidden=True), \n",
    "                    nn.Flatten(), \n",
    "                    nn.Linear(32*5*5, 10), \n",
    "                    snn.Leaky(beta=beta, spike_grad=spike_grad, init_hidden=True, output=True)).to(device)"
   ]
  },
  {
   "cell_type": "code",
   "execution_count": 11,
   "metadata": {},
   "outputs": [],
   "source": [
    "# Do not return membrane as we don't need it\n",
    "\n",
    "def forward_pass(net, data):\n",
    "    spk_rec = []\n",
    "    utils.reset(net)        # Reset hidden states for all LIF neurons in net\n",
    "    \n",
    "    print(data.shape)\n",
    "    data = data.transpose(0,1)\n",
    "    print(data.shape)\n",
    "    for step in range(data.size(0)):        # data.size(0) = num of time steps\n",
    "        spk_out, mem_out = net(data[step])\n",
    "        spk_rec.append(spk_out)\n",
    "        \n",
    "    return torch.stack(spk_rec)"
   ]
  },
  {
   "cell_type": "markdown",
   "metadata": {},
   "source": [
    "## 2.2 Training"
   ]
  },
  {
   "cell_type": "code",
   "execution_count": 12,
   "metadata": {},
   "outputs": [
    {
     "name": "stdout",
     "output_type": "stream",
     "text": [
      "torch.Size([128, 310, 2, 34, 34])\n",
      "torch.Size([310, 128, 2, 34, 34])\n",
      "Epoch 0, Iteration 0 \n",
      "Train Loss: 31.00\n",
      "Accuracy: 3.91%\n",
      "\n",
      "torch.Size([128, 311, 2, 34, 34])\n",
      "torch.Size([311, 128, 2, 34, 34])\n",
      "Epoch 0, Iteration 1 \n",
      "Train Loss: 30.90\n",
      "Accuracy: 9.38%\n",
      "\n",
      "torch.Size([128, 311, 2, 34, 34])\n",
      "torch.Size([311, 128, 2, 34, 34])\n",
      "Epoch 0, Iteration 2 \n",
      "Train Loss: 30.90\n",
      "Accuracy: 6.25%\n",
      "\n",
      "torch.Size([128, 312, 2, 34, 34])\n",
      "torch.Size([312, 128, 2, 34, 34])\n",
      "Epoch 0, Iteration 3 \n",
      "Train Loss: 30.96\n",
      "Accuracy: 8.59%\n",
      "\n",
      "torch.Size([128, 311, 2, 34, 34])\n",
      "torch.Size([311, 128, 2, 34, 34])\n",
      "Epoch 0, Iteration 4 \n",
      "Train Loss: 30.90\n",
      "Accuracy: 9.38%\n",
      "\n",
      "torch.Size([128, 312, 2, 34, 34])\n",
      "torch.Size([312, 128, 2, 34, 34])\n",
      "Epoch 0, Iteration 5 \n",
      "Train Loss: 30.96\n",
      "Accuracy: 9.38%\n",
      "\n",
      "torch.Size([128, 313, 2, 34, 34])\n",
      "torch.Size([313, 128, 2, 34, 34])\n",
      "Epoch 0, Iteration 6 \n",
      "Train Loss: 31.02\n",
      "Accuracy: 13.28%\n",
      "\n"
     ]
    }
   ],
   "source": [
    "optimizer = torch.optim.Adam(net.parameters(), lr=2e-2, betas=(0.9, 0.999))\n",
    "loss_fn = SF.mse_count_loss(correct_rate=0.8, incorrect_rate=0.2)\n",
    "\n",
    "num_epochs = 1\n",
    "num_iters = 50\n",
    "\n",
    "loss_hist = []\n",
    "acc_hist = []\n",
    "\n",
    "# training loop\n",
    "for epoch in range(num_epochs):\n",
    "    for i, (data, targets) in enumerate(iter(trainloader)):\n",
    "        data = data.to(device)\n",
    "        targets = targets.to(device)\n",
    "\n",
    "        net.train()\n",
    "        spk_rec = forward_pass(net, data)\n",
    "        loss_val = loss_fn(spk_rec, targets)\n",
    "\n",
    "        # Gradient calculation + weight update\n",
    "        optimizer.zero_grad()\n",
    "        loss_val.backward()\n",
    "        optimizer.step()\n",
    "\n",
    "        # Store loss history for future plotting\n",
    "        loss_hist.append(loss_val.item())\n",
    "\n",
    "        print(f\"Epoch {epoch}, Iteration {i} \\nTrain Loss: {loss_val.item():.2f}\")\n",
    "\n",
    "        acc = SF.accuracy_rate(spk_rec, targets)\n",
    "        acc_hist.append(acc)\n",
    "        print(f\"Accuracy: {acc * 100:.2f}%\\n\")\n",
    "\n",
    "        # training loop breaks after 50 iterations\n",
    "        if i == num_iters:\n",
    "          break"
   ]
  },
  {
   "cell_type": "code",
   "execution_count": null,
   "metadata": {},
   "outputs": [],
   "source": [
    "import matplotlib.pyplot as plt\n",
    "\n",
    "# Plot Loss\n",
    "fig = plt.figure(facecolor=\"w\")\n",
    "plt.plot(acc_hist)\n",
    "plt.title(\"Train Set Accuracy\")\n",
    "plt.xlabel(\"Iteration\")\n",
    "plt.ylabel(\"Accuracy\")\n",
    "plt.show()"
   ]
  },
  {
   "cell_type": "code",
   "execution_count": null,
   "metadata": {},
   "outputs": [],
   "source": [
    "idx = 127       # At minibatch\n",
    "\n",
    "print(f\"The target label is: {targets[idx]}\")\n",
    "\n",
    "tonic.utils.plot_event_grid(data[idx])"
   ]
  },
  {
   "cell_type": "code",
   "execution_count": null,
   "metadata": {},
   "outputs": [],
   "source": []
  }
 ],
 "metadata": {
  "kernelspec": {
   "display_name": "Python 3.8.10 ('SNN-Torch-Practice')",
   "language": "python",
   "name": "python3"
  },
  "language_info": {
   "codemirror_mode": {
    "name": "ipython",
    "version": 3
   },
   "file_extension": ".py",
   "mimetype": "text/x-python",
   "name": "python",
   "nbconvert_exporter": "python",
   "pygments_lexer": "ipython3",
   "version": "3.8.10"
  },
  "orig_nbformat": 4,
  "vscode": {
   "interpreter": {
    "hash": "683a7b102b596254c395704dcf4840313938b4a008d6dc868d87bbb00d08873e"
   }
  }
 },
 "nbformat": 4,
 "nbformat_minor": 2
}
