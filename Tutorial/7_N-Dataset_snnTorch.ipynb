{
 "cells": [
  {
   "cell_type": "markdown",
   "metadata": {},
   "source": [
    "# Tutorial 7 - Neuromorphic Datasets with Tonic + snnTroch\n",
    "\n",
    "## Learn how to\n",
    "- load neuromorphic datasets using Tonic\n",
    "- make use of chaching to speed up dataloading\n",
    "- train a ConvSNN with the N-MNIST dataset\n",
    "\n",
    "> Tonin 라이브러리를 활용하여 Neuromorphic 데이터셋을 로드하고 학습하는 과정에 대해 알아본다."
   ]
  },
  {
   "cell_type": "markdown",
   "metadata": {},
   "source": [
    "# 1. Using Tonic to load Neuromorphic datasets\n",
    "\n",
    "Tonic 라이브러리는 Pytorch vision과 비슷하게 작동한다. Tonic을 사용하여 N-MNIST와 같은 neuromorphic 데이터셋을 로드할 수 있다."
   ]
  },
  {
   "cell_type": "code",
   "execution_count": 1,
   "metadata": {},
   "outputs": [
    {
     "name": "stderr",
     "output_type": "stream",
     "text": [
      "/home/user/python_ws/SNN-Torch-Practice/lib/python3.8/site-packages/tqdm/auto.py:22: TqdmWarning: IProgress not found. Please update jupyter and ipywidgets. See https://ipywidgets.readthedocs.io/en/stable/user_install.html\n",
      "  from .autonotebook import tqdm as notebook_tqdm\n"
     ]
    },
    {
     "name": "stdout",
     "output_type": "stream",
     "text": [
      "dataset:  NMNIST 60000 <class 'tonic.datasets.nmnist.NMNIST'>\n",
      "events :  [( 0, 30,   1213, 1) ( 9, 18,   4044, 0) (30, 15,   4104, 1) ...\n",
      " ( 9, 17, 301658, 0) (18,  8, 305112, 1) (19, 26, 309976, 1)] 3913 <class 'numpy.ndarray'>\n",
      "target :  9 <class 'int'>\n"
     ]
    }
   ],
   "source": [
    "import tonic\n",
    "import numpy as np\n",
    "\n",
    "dataset = tonic.datasets.NMNIST(save_to='./data', train=True)       # 9~0, total 60,000\n",
    "events, target = dataset[0]\n",
    "print('dataset: ', dataset, len(dataset), type(dataset))\n",
    "print('events : ', events, len(events), type(events))               # [(x,y,timestamp,polarity), (x,y,timestamp,polarity), ...]\n",
    "print('target : ', target, type(target))"
   ]
  },
  {
   "cell_type": "markdown",
   "metadata": {},
   "source": [
    "위와 같이 N-MNIST 데이터셋을 로드할 수 있다. MNIST와 동일하게 총 6만장의 이미지가 있으며, 각 이미지들을 $ms$ 단위의 event들로 재생성한 것이다. events는 수천개 이벤트들의 리스트이고, 하나의 이벤트는 (x, y, timestamp, polarity)로 표현된다. *polarity* 는 $+1\\ or\\ -1$ 이며, 빛의 밝기가 밝아지거나 어두워지거나 둘 중 하나이다."
   ]
  },
  {
   "cell_type": "code",
   "execution_count": 2,
   "metadata": {},
   "outputs": [
    {
     "data": {
      "image/png": "[encoded data removed]",
      "text/plain": [
       "<Figure size 640x480 with 3 Axes>"
      ]
     },
     "metadata": {},
     "output_type": "display_data"
    }
   ],
   "source": [
    "tonic.utils.plot_event_grid(events)"
   ]
  },
  {
   "cell_type": "markdown",
   "metadata": {},
   "source": [
    "## 1.1 Transformation\n",
    "위와 같은 raw 데이터를 네트워크의 입력으로 사용할 수 없다. Pytorch dataset과 비슷하게 텐서로의 변환 과정이 필요하다."
   ]
  },
  {
   "cell_type": "code",
   "execution_count": 3,
   "metadata": {},
   "outputs": [
    {
     "name": "stdout",
     "output_type": "stream",
     "text": [
      "(34, 34, 2)\n",
      "60000\n",
      "10000\n"
     ]
    }
   ],
   "source": [
    "import tonic.transforms as transforms\n",
    "\n",
    "sensor_size = tonic.datasets.NMNIST.sensor_size\n",
    "\n",
    "# Denoise removes isolated, one-off events\n",
    "# time-window\n",
    "frame_transform = transforms.Compose([transforms.Denoise(filter_time=10000), \n",
    "                                      transforms.ToFrame(sensor_size=sensor_size, time_window=1000)])\n",
    "\n",
    "trainset = tonic.datasets.NMNIST(save_to='./data', transform=frame_transform, train=True)\n",
    "testset  = tonic.datasets.NMNIST(save_to='./data', transform=frame_transform, train=False)\n",
    "\n",
    "print(sensor_size)\n",
    "print(len(trainset))\n",
    "print(len(testset))"
   ]
  },
  {
   "cell_type": "markdown",
   "metadata": {},
   "source": [
    "## 1.2 Fast data loading via caching\n",
    "데이터 캐싱을 통해 데이터를 로드하는데 시간을 줄일 수 있다."
   ]
  },
  {
   "cell_type": "code",
   "execution_count": 4,
   "metadata": {},
   "outputs": [
    {
     "name": "stdout",
     "output_type": "stream",
     "text": [
      "460 ms ± 6.7 ms per loop (mean ± std. dev. of 7 runs, 1 loop each)\n"
     ]
    },
    {
     "data": {
      "text/plain": [
       "<TimeitResult : 460 ms ± 6.7 ms per loop (mean ± std. dev. of 7 runs, 1 loop each)>"
      ]
     },
     "execution_count": 4,
     "metadata": {},
     "output_type": "execute_result"
    }
   ],
   "source": [
    "def load_sample_simple():\n",
    "    for i in range(100):\n",
    "        events, target = trainset[i]\n",
    "        \n",
    "%timeit -o load_sample_simple()"
   ]
  },
  {
   "cell_type": "markdown",
   "metadata": {},
   "source": [
    "Pytorch DataLoader와 디스크 캐싱을 통해 위 시간을 줄일 수 있다."
   ]
  },
  {
   "cell_type": "code",
   "execution_count": 5,
   "metadata": {},
   "outputs": [
    {
     "name": "stderr",
     "output_type": "stream",
     "text": [
      "/tmp/ipykernel_15315/1546661115.py:4: DeprecationWarning: CachedDataset is deprecated and will be removed in a future release. It currently points to DiskCachedDataset to distinguish it from MemoryCachedDataset. Documentation available under https://tonic.readthedocs.io/en/latest/reference/data_classes.html#caching\n",
      "  cached_trainset   = CachedDataset(trainset, cache_path='./cache/nmist/train')\n"
     ]
    },
    {
     "name": "stdout",
     "output_type": "stream",
     "text": [
      "223 ms ± 5.33 ms per loop (mean ± std. dev. of 20 runs, 1 loop each)\n"
     ]
    },
    {
     "data": {
      "text/plain": [
       "<TimeitResult : 223 ms ± 5.33 ms per loop (mean ± std. dev. of 20 runs, 1 loop each)>"
      ]
     },
     "execution_count": 5,
     "metadata": {},
     "output_type": "execute_result"
    }
   ],
   "source": [
    "from torch.utils.data import DataLoader\n",
    "from tonic import CachedDataset\n",
    "\n",
    "cached_trainset   = CachedDataset(trainset, cache_path='./cache/nmist/train')\n",
    "cached_dataloader = DataLoader(cached_trainset)\n",
    "\n",
    "def load_sample_cached():\n",
    "    for i, (events, target) in enumerate(iter(cached_dataloader)):\n",
    "        if i > 99: break\n",
    "        \n",
    "%timeit -o -r 20 load_sample_cached()"
   ]
  },
  {
   "cell_type": "markdown",
   "metadata": {},
   "source": [
    "## 1.3 Even faster dataloading via batching\n",
    "\n",
    "데이터 로딩 시간을 줄였다. 이제 GPU를 더욱 효율적으로 사용하기 위해 batching 한다.\n",
    "\n",
    "각각의 이벤트들은 기록 시간이 모두 다르기 때문에, **tonic.collation.PadTensors()** 함수를 사용하여 batch 내부의 모든 데이터들이 같은 디멘션을 가질 수 있도록해준다. 기록 시간이 짧은 것들을 pad out하는 방식을 사용한다."
   ]
  },
  {
   "cell_type": "code",
   "execution_count": 6,
   "metadata": {},
   "outputs": [
    {
     "name": "stdout",
     "output_type": "stream",
     "text": [
      "2.11 ms ± 13.6 µs per loop (mean ± std. dev. of 10 runs, 100 loops each)\n"
     ]
    },
    {
     "data": {
      "text/plain": [
       "<TimeitResult : 2.11 ms ± 13.6 µs per loop (mean ± std. dev. of 10 runs, 100 loops each)>"
      ]
     },
     "execution_count": 6,
     "metadata": {},
     "output_type": "execute_result"
    }
   ],
   "source": [
    "batch_size = 100\n",
    "\n",
    "trainloader = DataLoader(cached_trainset, batch_size=batch_size, collate_fn=tonic.collation.PadTensors())\n",
    "\n",
    "def load_sample_batched():\n",
    "    events, target = next(iter(cached_dataloader))\n",
    "    \n",
    "%timeit -o -r 10 load_sample_batched()"
   ]
  },
  {
   "cell_type": "markdown",
   "metadata": {},
   "source": [
    "# 2. Training our network using frames created from events\n",
    "\n",
    "Training data에 augmentation을 적용하고자 한다. 캐싱된 데이터셋에서 가져온 샘플들은 프레임(텐서)이기 때문에, torchvision을 적용할 수 있다."
   ]
  },
  {
   "cell_type": "code",
   "execution_count": 7,
   "metadata": {},
   "outputs": [
    {
     "name": "stdout",
     "output_type": "stream",
     "text": [
      "469 <class 'torch.utils.data.dataloader.DataLoader'>\n",
      "79 <class 'torch.utils.data.dataloader.DataLoader'>\n"
     ]
    },
    {
     "name": "stderr",
     "output_type": "stream",
     "text": [
      "/tmp/ipykernel_15315/2624845421.py:7: DeprecationWarning: CachedDataset is deprecated and will be removed in a future release. It currently points to DiskCachedDataset to distinguish it from MemoryCachedDataset. Documentation available under https://tonic.readthedocs.io/en/latest/reference/data_classes.html#caching\n",
      "  cached_trainset = CachedDataset(trainset, transform=transform, cache_path='./cache/nmist/train')\n",
      "/tmp/ipykernel_15315/2624845421.py:9: DeprecationWarning: CachedDataset is deprecated and will be removed in a future release. It currently points to DiskCachedDataset to distinguish it from MemoryCachedDataset. Documentation available under https://tonic.readthedocs.io/en/latest/reference/data_classes.html#caching\n",
      "  cached_testset  = CachedDataset(testset, cache_path='./cache/nmist/test')\n"
     ]
    }
   ],
   "source": [
    "import torch\n",
    "import torchvision\n",
    "\n",
    "transform = tonic.transforms.Compose([torch.from_numpy, \n",
    "                                      torchvision.transforms.RandomRotation([-10, 10])])\n",
    "\n",
    "cached_trainset = CachedDataset(trainset, transform=transform, cache_path='./cache/nmist/train')\n",
    "# No augmentation for the testset\n",
    "cached_testset  = CachedDataset(testset, cache_path='./cache/nmist/test')\n",
    "\n",
    "batch_size  = 128\n",
    "trainloader = DataLoader(cached_trainset, batch_size=batch_size, collate_fn=tonic.collation.PadTensors(), shuffle=True)\n",
    "testloader  = DataLoader(cached_testset, batch_size=batch_size, collate_fn=tonic.collation.PadTensors())\n",
    "\n",
    "print(len(trainloader), type(trainloader))\n",
    "print(len(testloader), type(testloader))"
   ]
  },
  {
   "cell_type": "markdown",
   "metadata": {},
   "source": [
    "하나의 미니배치는 다음과 같은 파일 포맷을 가진다.\n",
    "\n",
    "> (batch_size, time_steps, channels, height, width)\n",
    "\n",
    "여기서 *time_steps*는 미니배치에 있는 데이터 중 이벤트의 길이가 가장 긴 데이터에 맞춰진다. 그리고 다른 데이터들의 모자란 부붙은 0으로 채워진다."
   ]
  },
  {
   "cell_type": "code",
   "execution_count": 8,
   "metadata": {},
   "outputs": [
    {
     "name": "stdout",
     "output_type": "stream",
     "text": [
      "torch.Size([128, 311, 2, 34, 34])\n",
      "torch.Size([128])\n"
     ]
    }
   ],
   "source": [
    "event_tensor, target = next(iter(trainloader))\n",
    "print(event_tensor.shape)\n",
    "print(target.shape)"
   ]
  },
  {
   "cell_type": "markdown",
   "metadata": {},
   "source": [
    "최종의 데이터셋 포맷은 이 그림과 같을 것이다.\n",
    "\n",
    "![0644](./images/IMG_0644.jpg)"
   ]
  },
  {
   "cell_type": "markdown",
   "metadata": {},
   "source": [
    "## 2.1 Defining our network\n",
    "\n",
    "Pytorch와 snnTorch를 사용하여 ConvSNN을 설계한다. 아키텍처는 다음과 같다.\n",
    "\n",
    "> 12C5-MP2-32C5-MP2-800FC10"
   ]
  },
  {
   "cell_type": "code",
   "execution_count": 9,
   "metadata": {},
   "outputs": [],
   "source": [
    "import snntorch as snn\n",
    "from snntorch import surrogate, utils\n",
    "from snntorch import functional as SF\n",
    "from snntorch import spikeplot as splt\n",
    "\n",
    "import torch.nn as nn"
   ]
  },
  {
   "cell_type": "code",
   "execution_count": 10,
   "metadata": {},
   "outputs": [],
   "source": [
    "device = torch.device('cuda') if torch.cuda.is_available() else torch.device('cpu')\n",
    "\n",
    "# Neuron and simulation params\n",
    "spike_grad = surrogate.fast_sigmoid(slope=75)\n",
    "beta       = 0.5\n",
    "\n",
    "# Initialize Network\n",
    "net = nn.Sequential(nn.Conv2d(2, 12, 5), # input ch: 2, output ch: 12, kernel size: 5x5\n",
    "                    nn.MaxPool2d(2), \n",
    "                    snn.Leaky(beta=beta, spike_grad=spike_grad, init_hidden=True), \n",
    "                    nn.Conv2d(12, 32, 5), \n",
    "                    nn.MaxPool2d(2), \n",
    "                    snn.Leaky(beta=beta, spike_grad=spike_grad, init_hidden=True), \n",
    "                    nn.Flatten(), \n",
    "                    nn.Linear(32*5*5, 10), \n",
    "                    snn.Leaky(beta=beta, spike_grad=spike_grad, init_hidden=True, output=True)).to(device)"
   ]
  },
  {
   "cell_type": "code",
   "execution_count": 11,
   "metadata": {},
   "outputs": [],
   "source": [
    "# Do not return membrane as we don't need it\n",
    "\n",
    "def forward_pass(net, data):\n",
    "    spk_rec = []\n",
    "    utils.reset(net)        # Reset hidden states for all LIF neurons in net\n",
    "    \n",
    "    print(data.shape)\n",
    "    data = data.transpose(0,1)\n",
    "    print(data.shape)\n",
    "    for step in range(data.size(0)):        # data.size(0) = num of time steps\n",
    "        spk_out, mem_out = net(data[step])  # for each time step\n",
    "        spk_rec.append(spk_out)\n",
    "        \n",
    "    return torch.stack(spk_rec)"
   ]
  },
  {
   "cell_type": "markdown",
   "metadata": {},
   "source": [
    "## 2.2 Training"
   ]
  },
  {
   "cell_type": "code",
   "execution_count": 12,
   "metadata": {},
   "outputs": [
    {
     "name": "stdout",
     "output_type": "stream",
     "text": [
      "torch.Size([128, 311, 2, 34, 34])\n",
      "torch.Size([311, 128, 2, 34, 34])\n",
      "Epoch 0, Iteration 0 \n",
      "Train Loss: 30.90\n",
      "Accuracy: 7.81%\n",
      "\n",
      "torch.Size([128, 311, 2, 34, 34])\n",
      "torch.Size([311, 128, 2, 34, 34])\n",
      "Epoch 0, Iteration 1 \n",
      "Train Loss: 30.90\n",
      "Accuracy: 12.50%\n",
      "\n",
      "torch.Size([128, 311, 2, 34, 34])\n",
      "torch.Size([311, 128, 2, 34, 34])\n",
      "Epoch 0, Iteration 2 \n",
      "Train Loss: 30.90\n",
      "Accuracy: 10.94%\n",
      "\n",
      "torch.Size([128, 311, 2, 34, 34])\n",
      "torch.Size([311, 128, 2, 34, 34])\n",
      "Epoch 0, Iteration 3 \n",
      "Train Loss: 30.90\n",
      "Accuracy: 11.72%\n",
      "\n",
      "torch.Size([128, 311, 2, 34, 34])\n",
      "torch.Size([311, 128, 2, 34, 34])\n",
      "Epoch 0, Iteration 4 \n",
      "Train Loss: 30.90\n",
      "Accuracy: 11.72%\n",
      "\n",
      "torch.Size([128, 310, 2, 34, 34])\n",
      "torch.Size([310, 128, 2, 34, 34])\n",
      "Epoch 0, Iteration 5 \n",
      "Train Loss: 31.00\n",
      "Accuracy: 11.72%\n",
      "\n",
      "torch.Size([128, 311, 2, 34, 34])\n",
      "torch.Size([311, 128, 2, 34, 34])\n",
      "Epoch 0, Iteration 6 \n",
      "Train Loss: 30.90\n",
      "Accuracy: 10.16%\n",
      "\n",
      "torch.Size([128, 310, 2, 34, 34])\n",
      "torch.Size([310, 128, 2, 34, 34])\n",
      "Epoch 0, Iteration 7 \n",
      "Train Loss: 31.00\n",
      "Accuracy: 12.50%\n",
      "\n",
      "torch.Size([128, 311, 2, 34, 34])\n",
      "torch.Size([311, 128, 2, 34, 34])\n",
      "Epoch 0, Iteration 8 \n",
      "Train Loss: 30.89\n",
      "Accuracy: 7.81%\n",
      "\n",
      "torch.Size([128, 310, 2, 34, 34])\n",
      "torch.Size([310, 128, 2, 34, 34])\n",
      "Epoch 0, Iteration 9 \n",
      "Train Loss: 26.61\n",
      "Accuracy: 7.03%\n",
      "\n",
      "torch.Size([128, 312, 2, 34, 34])\n",
      "torch.Size([312, 128, 2, 34, 34])\n",
      "Epoch 0, Iteration 10 \n",
      "Train Loss: 16.14\n",
      "Accuracy: 12.50%\n",
      "\n",
      "torch.Size([128, 310, 2, 34, 34])\n",
      "torch.Size([310, 128, 2, 34, 34])\n",
      "Epoch 0, Iteration 11 \n",
      "Train Loss: 12.90\n",
      "Accuracy: 10.16%\n",
      "\n",
      "torch.Size([128, 311, 2, 34, 34])\n",
      "torch.Size([311, 128, 2, 34, 34])\n",
      "Epoch 0, Iteration 12 \n",
      "Train Loss: 19.48\n",
      "Accuracy: 15.62%\n",
      "\n",
      "torch.Size([128, 310, 2, 34, 34])\n",
      "torch.Size([310, 128, 2, 34, 34])\n",
      "Epoch 0, Iteration 13 \n",
      "Train Loss: 22.14\n",
      "Accuracy: 20.31%\n",
      "\n",
      "torch.Size([128, 311, 2, 34, 34])\n",
      "torch.Size([311, 128, 2, 34, 34])\n",
      "Epoch 0, Iteration 14 \n",
      "Train Loss: 22.89\n",
      "Accuracy: 31.25%\n",
      "\n",
      "torch.Size([128, 309, 2, 34, 34])\n",
      "torch.Size([309, 128, 2, 34, 34])\n",
      "Epoch 0, Iteration 15 \n",
      "Train Loss: 19.37\n",
      "Accuracy: 30.47%\n",
      "\n",
      "torch.Size([128, 311, 2, 34, 34])\n",
      "torch.Size([311, 128, 2, 34, 34])\n",
      "Epoch 0, Iteration 16 \n",
      "Train Loss: 12.88\n",
      "Accuracy: 22.66%\n",
      "\n",
      "torch.Size([128, 311, 2, 34, 34])\n",
      "torch.Size([311, 128, 2, 34, 34])\n",
      "Epoch 0, Iteration 17 \n",
      "Train Loss: 13.86\n",
      "Accuracy: 31.25%\n",
      "\n",
      "torch.Size([128, 310, 2, 34, 34])\n",
      "torch.Size([310, 128, 2, 34, 34])\n",
      "Epoch 0, Iteration 18 \n",
      "Train Loss: 13.50\n",
      "Accuracy: 33.59%\n",
      "\n",
      "torch.Size([128, 312, 2, 34, 34])\n",
      "torch.Size([312, 128, 2, 34, 34])\n",
      "Epoch 0, Iteration 19 \n",
      "Train Loss: 11.78\n",
      "Accuracy: 17.97%\n",
      "\n",
      "torch.Size([128, 309, 2, 34, 34])\n",
      "torch.Size([309, 128, 2, 34, 34])\n",
      "Epoch 0, Iteration 20 \n",
      "Train Loss: 11.64\n",
      "Accuracy: 28.12%\n",
      "\n",
      "torch.Size([128, 312, 2, 34, 34])\n",
      "torch.Size([312, 128, 2, 34, 34])\n",
      "Epoch 0, Iteration 21 \n",
      "Train Loss: 11.34\n",
      "Accuracy: 28.12%\n",
      "\n",
      "torch.Size([128, 311, 2, 34, 34])\n",
      "torch.Size([311, 128, 2, 34, 34])\n",
      "Epoch 0, Iteration 22 \n",
      "Train Loss: 11.77\n",
      "Accuracy: 26.56%\n",
      "\n",
      "torch.Size([128, 311, 2, 34, 34])\n",
      "torch.Size([311, 128, 2, 34, 34])\n",
      "Epoch 0, Iteration 23 \n",
      "Train Loss: 11.29\n",
      "Accuracy: 25.00%\n",
      "\n",
      "torch.Size([128, 312, 2, 34, 34])\n",
      "torch.Size([312, 128, 2, 34, 34])\n",
      "Epoch 0, Iteration 24 \n",
      "Train Loss: 11.16\n",
      "Accuracy: 28.91%\n",
      "\n",
      "torch.Size([128, 309, 2, 34, 34])\n",
      "torch.Size([309, 128, 2, 34, 34])\n",
      "Epoch 0, Iteration 25 \n",
      "Train Loss: 10.95\n",
      "Accuracy: 22.66%\n",
      "\n",
      "torch.Size([128, 310, 2, 34, 34])\n",
      "torch.Size([310, 128, 2, 34, 34])\n",
      "Epoch 0, Iteration 26 \n",
      "Train Loss: 11.07\n",
      "Accuracy: 17.19%\n",
      "\n",
      "torch.Size([128, 311, 2, 34, 34])\n",
      "torch.Size([311, 128, 2, 34, 34])\n",
      "Epoch 0, Iteration 27 \n",
      "Train Loss: 10.81\n",
      "Accuracy: 25.78%\n",
      "\n",
      "torch.Size([128, 312, 2, 34, 34])\n",
      "torch.Size([312, 128, 2, 34, 34])\n",
      "Epoch 0, Iteration 28 \n",
      "Train Loss: 10.74\n",
      "Accuracy: 33.59%\n",
      "\n",
      "torch.Size([128, 312, 2, 34, 34])\n",
      "torch.Size([312, 128, 2, 34, 34])\n",
      "Epoch 0, Iteration 29 \n",
      "Train Loss: 10.55\n",
      "Accuracy: 30.47%\n",
      "\n",
      "torch.Size([128, 313, 2, 34, 34])\n",
      "torch.Size([313, 128, 2, 34, 34])\n",
      "Epoch 0, Iteration 30 \n",
      "Train Loss: 10.58\n",
      "Accuracy: 35.16%\n",
      "\n",
      "torch.Size([128, 310, 2, 34, 34])\n",
      "torch.Size([310, 128, 2, 34, 34])\n",
      "Epoch 0, Iteration 31 \n",
      "Train Loss: 10.04\n",
      "Accuracy: 47.66%\n",
      "\n",
      "torch.Size([128, 310, 2, 34, 34])\n",
      "torch.Size([310, 128, 2, 34, 34])\n",
      "Epoch 0, Iteration 32 \n",
      "Train Loss: 9.96\n",
      "Accuracy: 49.22%\n",
      "\n",
      "torch.Size([128, 310, 2, 34, 34])\n",
      "torch.Size([310, 128, 2, 34, 34])\n",
      "Epoch 0, Iteration 33 \n",
      "Train Loss: 9.95\n",
      "Accuracy: 47.66%\n",
      "\n",
      "torch.Size([128, 311, 2, 34, 34])\n",
      "torch.Size([311, 128, 2, 34, 34])\n",
      "Epoch 0, Iteration 34 \n",
      "Train Loss: 9.86\n",
      "Accuracy: 48.44%\n",
      "\n",
      "torch.Size([128, 310, 2, 34, 34])\n",
      "torch.Size([310, 128, 2, 34, 34])\n",
      "Epoch 0, Iteration 35 \n",
      "Train Loss: 9.38\n",
      "Accuracy: 53.12%\n",
      "\n",
      "torch.Size([128, 310, 2, 34, 34])\n",
      "torch.Size([310, 128, 2, 34, 34])\n",
      "Epoch 0, Iteration 36 \n",
      "Train Loss: 9.66\n",
      "Accuracy: 48.44%\n",
      "\n",
      "torch.Size([128, 311, 2, 34, 34])\n",
      "torch.Size([311, 128, 2, 34, 34])\n",
      "Epoch 0, Iteration 37 \n",
      "Train Loss: 9.49\n",
      "Accuracy: 57.81%\n",
      "\n",
      "torch.Size([128, 313, 2, 34, 34])\n",
      "torch.Size([313, 128, 2, 34, 34])\n",
      "Epoch 0, Iteration 38 \n",
      "Train Loss: 9.75\n",
      "Accuracy: 58.59%\n",
      "\n",
      "torch.Size([128, 310, 2, 34, 34])\n",
      "torch.Size([310, 128, 2, 34, 34])\n",
      "Epoch 0, Iteration 39 \n",
      "Train Loss: 9.21\n",
      "Accuracy: 46.88%\n",
      "\n",
      "torch.Size([128, 310, 2, 34, 34])\n",
      "torch.Size([310, 128, 2, 34, 34])\n",
      "Epoch 0, Iteration 40 \n",
      "Train Loss: 9.20\n",
      "Accuracy: 46.88%\n",
      "\n",
      "torch.Size([128, 310, 2, 34, 34])\n",
      "torch.Size([310, 128, 2, 34, 34])\n",
      "Epoch 0, Iteration 41 \n",
      "Train Loss: 9.03\n",
      "Accuracy: 48.44%\n",
      "\n",
      "torch.Size([128, 310, 2, 34, 34])\n",
      "torch.Size([310, 128, 2, 34, 34])\n",
      "Epoch 0, Iteration 42 \n",
      "Train Loss: 8.85\n",
      "Accuracy: 59.38%\n",
      "\n",
      "torch.Size([128, 312, 2, 34, 34])\n",
      "torch.Size([312, 128, 2, 34, 34])\n",
      "Epoch 0, Iteration 43 \n",
      "Train Loss: 9.01\n",
      "Accuracy: 47.66%\n",
      "\n",
      "torch.Size([128, 312, 2, 34, 34])\n",
      "torch.Size([312, 128, 2, 34, 34])\n",
      "Epoch 0, Iteration 44 \n",
      "Train Loss: 8.79\n",
      "Accuracy: 57.81%\n",
      "\n",
      "torch.Size([128, 311, 2, 34, 34])\n",
      "torch.Size([311, 128, 2, 34, 34])\n",
      "Epoch 0, Iteration 45 \n",
      "Train Loss: 8.90\n",
      "Accuracy: 50.00%\n",
      "\n",
      "torch.Size([128, 310, 2, 34, 34])\n",
      "torch.Size([310, 128, 2, 34, 34])\n",
      "Epoch 0, Iteration 46 \n",
      "Train Loss: 8.48\n",
      "Accuracy: 58.59%\n",
      "\n",
      "torch.Size([128, 311, 2, 34, 34])\n",
      "torch.Size([311, 128, 2, 34, 34])\n",
      "Epoch 0, Iteration 47 \n",
      "Train Loss: 8.56\n",
      "Accuracy: 56.25%\n",
      "\n",
      "torch.Size([128, 312, 2, 34, 34])\n",
      "torch.Size([312, 128, 2, 34, 34])\n",
      "Epoch 0, Iteration 48 \n",
      "Train Loss: 8.57\n",
      "Accuracy: 49.22%\n",
      "\n",
      "torch.Size([128, 310, 2, 34, 34])\n",
      "torch.Size([310, 128, 2, 34, 34])\n",
      "Epoch 0, Iteration 49 \n",
      "Train Loss: 8.27\n",
      "Accuracy: 55.47%\n",
      "\n",
      "torch.Size([128, 311, 2, 34, 34])\n",
      "torch.Size([311, 128, 2, 34, 34])\n",
      "Epoch 0, Iteration 50 \n",
      "Train Loss: 8.00\n",
      "Accuracy: 60.16%\n",
      "\n"
     ]
    }
   ],
   "source": [
    "optimizer = torch.optim.Adam(net.parameters(), lr=2e-2, betas=(0.9, 0.999))\n",
    "loss_fn = SF.mse_count_loss(correct_rate=0.8, incorrect_rate=0.2)\n",
    "\n",
    "num_epochs = 1\n",
    "num_iters = 50\n",
    "\n",
    "loss_hist = []\n",
    "acc_hist = []\n",
    "\n",
    "# training loop\n",
    "for epoch in range(num_epochs):\n",
    "    for i, (data, targets) in enumerate(iter(trainloader)): # train each batch\n",
    "        data = data.to(device)\n",
    "        targets = targets.to(device)\n",
    "\n",
    "        net.train()\n",
    "        spk_rec = forward_pass(net, data)\n",
    "        loss_val = loss_fn(spk_rec, targets)\n",
    "\n",
    "        # Gradient calculation + weight update\n",
    "        optimizer.zero_grad()\n",
    "        loss_val.backward()\n",
    "        optimizer.step()\n",
    "\n",
    "        # Store loss history for future plotting\n",
    "        loss_hist.append(loss_val.item())\n",
    "\n",
    "        print(f\"Epoch {epoch}, Iteration {i} \\nTrain Loss: {loss_val.item():.2f}\")\n",
    "\n",
    "        acc = SF.accuracy_rate(spk_rec, targets)\n",
    "        acc_hist.append(acc)\n",
    "        print(f\"Accuracy: {acc * 100:.2f}%\\n\")\n",
    "\n",
    "        # training loop breaks after 50 iterations\n",
    "        if i == num_iters:\n",
    "          break"
   ]
  },
  {
   "cell_type": "code",
   "execution_count": 13,
   "metadata": {},
   "outputs": [
    {
     "data": {
      "image/png": "[encoded data removed]",
      "text/plain": [
       "<Figure size 640x480 with 1 Axes>"
      ]
     },
     "metadata": {},
     "output_type": "display_data"
    }
   ],
   "source": [
    "import matplotlib.pyplot as plt\n",
    "\n",
    "# Plot Loss\n",
    "fig = plt.figure(facecolor=\"w\")\n",
    "plt.plot(acc_hist)\n",
    "plt.title(\"Train Set Accuracy\")\n",
    "plt.xlabel(\"Iteration\")\n",
    "plt.ylabel(\"Accuracy\")\n",
    "plt.show()"
   ]
  },
  {
   "cell_type": "code",
   "execution_count": 14,
   "metadata": {},
   "outputs": [
    {
     "name": "stdout",
     "output_type": "stream",
     "text": [
      "The target label is: 0\n"
     ]
    }
   ],
   "source": [
    "idx = 127       # At minibatch\n",
    "\n",
    "print(f\"The target label is: {targets[idx]}\")"
   ]
  },
  {
   "cell_type": "code",
   "execution_count": null,
   "metadata": {},
   "outputs": [],
   "source": []
  }
 ],
 "metadata": {
  "kernelspec": {
   "display_name": "Python 3",
   "language": "python",
   "name": "python3"
  },
  "language_info": {
   "codemirror_mode": {
    "name": "ipython",
    "version": 3
   },
   "file_extension": ".py",
   "mimetype": "text/x-python",
   "name": "python",
   "nbconvert_exporter": "python",
   "pygments_lexer": "ipython3",
   "version": "3.8.10 (default, Nov 14 2022, 12:59:47) \n[GCC 9.4.0]"
  },
  "orig_nbformat": 4,
  "vscode": {
   "interpreter": {
    "hash": "916dbcbb3f70747c44a77c7bcd40155683ae19c65e1c03b4aa3499c5328201f1"
   }
  }
 },
 "nbformat": 4,
 "nbformat_minor": 2
}
