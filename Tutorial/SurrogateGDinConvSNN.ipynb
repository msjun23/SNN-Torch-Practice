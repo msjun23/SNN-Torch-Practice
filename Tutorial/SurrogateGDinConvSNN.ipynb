{
 "cells": [
  {
   "cell_type": "markdown",
   "metadata": {},
   "source": [
    "# Tutorial 6 - Surrogate Gradient Descent in a Convolution SNN\n",
    "\n",
    "## Learn how to\n",
    "- use surrogate gradient descent to overcome the *dead neuron problem*\n",
    "- construct and train a ConvSNN\n",
    "- use a sequential container, **nn.Sequential** to simplify model construction\n",
    "- use the **snn.backprop** module to reduce the time it takes to design a neural network\n",
    "\n",
    "> Surrogate Gradient Descent에 대해 알아보고 ConvSNN을 설계하는 것과 backprop 과정에 대해 공부한다."
   ]
  },
  {
   "cell_type": "code",
   "execution_count": null,
   "metadata": {},
   "outputs": [],
   "source": [
    "import snntorch as snn\n",
    "from snntorch import surrogate, backprop, utils\n",
    "from snntorch import functional as SF\n",
    "from snntorch import spikeplot as splt\n",
    "\n",
    "import torch\n",
    "import torch.nn as nn\n",
    "import torch.nn.functional as F\n",
    "from torch.utils.data import DataLoader\n",
    "from torchvision import datasets, transforms\n",
    "\n",
    "import matplotlib.pyplot as plt\n",
    "import numpy as np\n",
    "import itertools"
   ]
  },
  {
   "cell_type": "markdown",
   "metadata": {},
   "source": []
  }
 ],
 "metadata": {
  "kernelspec": {
   "display_name": "Python 3.8.10 ('SNN-Torch-Practice')",
   "language": "python",
   "name": "python3"
  },
  "language_info": {
   "name": "python",
   "version": "3.8.10"
  },
  "orig_nbformat": 4,
  "vscode": {
   "interpreter": {
    "hash": "683a7b102b596254c395704dcf4840313938b4a008d6dc868d87bbb00d08873e"
   }
  }
 },
 "nbformat": 4,
 "nbformat_minor": 2
}
