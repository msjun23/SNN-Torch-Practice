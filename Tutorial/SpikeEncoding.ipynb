{
 "cells": [
  {
   "cell_type": "markdown",
   "metadata": {},
   "source": [
    "# Tutorial 1 - Spike Encoding\n",
    "\n",
    "## Learn how to\n",
    "- convert datasets into spiking datasets\n",
    "- how to visualize them\n",
    "- how to generate random spike trains\n",
    "\n",
    "> MNIST 데이터셋을 SNN으로 학습하기 위한 spiking dataset으로 변환하고 사용하는 방법에 대해 공부한다.\n",
    "\n",
    "---"
   ]
  },
  {
   "cell_type": "markdown",
   "metadata": {},
   "source": [
    "# 1. Setting up the MNIST dataset"
   ]
  },
  {
   "cell_type": "code",
   "execution_count": 11,
   "metadata": {},
   "outputs": [],
   "source": [
    "import snntorch as snn\n",
    "import torch\n",
    "\n",
    "# Traning params\n",
    "batch_size  = 128\n",
    "data_path   = './data'\n",
    "num_classes = 10    # MNIST 0~9\n",
    "\n",
    "# Torch variables\n",
    "dtype = torch.float"
   ]
  },
  {
   "cell_type": "code",
   "execution_count": 16,
   "metadata": {},
   "outputs": [],
   "source": [
    "# Download Dataset\n",
    "from torchvision import datasets, transforms\n",
    "\n",
    "# Define a transform\n",
    "transforms = transforms.Compose([\n",
    "             transforms.Resize((28,28)),\n",
    "             transforms.Grayscale(),\n",
    "             transforms.ToTensor(),\n",
    "             transforms.Normalize((0,), (1,))\n",
    "             ])\n",
    "\n",
    "mnist_train = datasets.MNIST(data_path, train=True, download=True, transform=transforms)"
   ]
  },
  {
   "cell_type": "markdown",
   "metadata": {},
   "source": [
    "MNIST 데이터셋은 60,000장의 이미지를 가지고 있다. 빠른 구현을 위해 서브셋으로 전체 데이터의 1/10인 6,000장의 데이터셋을 생성해준다.\n",
    "\n",
    "snntorch.utils는 서브셋을 생성해주는 함수를 포함한다."
   ]
  },
  {
   "cell_type": "code",
   "execution_count": 17,
   "metadata": {},
   "outputs": [
    {
     "name": "stdout",
     "output_type": "stream",
     "text": [
      "The size of mnist_train is 6000\n"
     ]
    }
   ],
   "source": [
    "from snntorch import utils\n",
    "\n",
    "subset_size = 10\n",
    "mnist_train = utils.data_subset(mnist_train, subset_size)\n",
    "\n",
    "print(f'The size of mnist_train is {len(mnist_train)}')"
   ]
  },
  {
   "cell_type": "markdown",
   "metadata": {},
   "source": [
    "위에서 가져온 데이터셋은 메모리에 저장된다. PyTorch의 DataLoader는 이 데이터셋을 배치 단위로 네트워크에 제공해준다."
   ]
  },
  {
   "cell_type": "code",
   "execution_count": null,
   "metadata": {},
   "outputs": [],
   "source": [
    "from torch.utils.data import DataLoader\n",
    "\n",
    "train_loader = DataLoader(mnist_train, batch_size=batch_size, shuffle=True)"
   ]
  },
  {
   "cell_type": "markdown",
   "metadata": {},
   "source": [
    "# 2. Spike Encoding\n",
    "\n",
    "SNN의 입력으로 데이터를 제공하기 위해 두 가지 방식을 고려할 수 있다. 하나는 동일한 이미지를 매 시간(time step)마다 제공하는 것이고, 다른 하나는 시간에 의존하는(time-varying) spikes(sequence)로 변환하여 제공하는 것이다. 두 번째 방식이 SNN에 더 적합하므로 해당 방식에 대해 알아보겠다."
   ]
  },
  {
   "cell_type": "markdown",
   "metadata": {},
   "source": []
  }
 ],
 "metadata": {
  "kernelspec": {
   "display_name": "Python 3.8.10 ('SNN-Torch-Practice')",
   "language": "python",
   "name": "python3"
  },
  "language_info": {
   "codemirror_mode": {
    "name": "ipython",
    "version": 3
   },
   "file_extension": ".py",
   "mimetype": "text/x-python",
   "name": "python",
   "nbconvert_exporter": "python",
   "pygments_lexer": "ipython3",
   "version": "3.8.10"
  },
  "orig_nbformat": 4,
  "vscode": {
   "interpreter": {
    "hash": "683a7b102b596254c395704dcf4840313938b4a008d6dc868d87bbb00d08873e"
   }
  }
 },
 "nbformat": 4,
 "nbformat_minor": 2
}
