{
 "cells": [
  {
   "cell_type": "markdown",
   "metadata": {},
   "source": [
    "# Tutorial 1 - Spike Encoding\n",
    "\n",
    "## Learn how to\n",
    "- convert datasets into spiking datasets\n",
    "- how to visualize them\n",
    "- how to generate random spike trains\n",
    "\n",
    "> MNIST 데이터셋을 SNN으로 학습하기 위한 spiking dataset으로 변환하고 사용하는 방법에 대해 공부한다.\n",
    "\n",
    "---"
   ]
  },
  {
   "cell_type": "markdown",
   "metadata": {},
   "source": [
    "# 1. Setting up the MNIST dataset"
   ]
  },
  {
   "cell_type": "code",
   "execution_count": 1,
   "metadata": {},
   "outputs": [],
   "source": [
    "import snntorch as snn\n",
    "import torch\n",
    "\n",
    "# Traning params\n",
    "batch_size  = 128\n",
    "data_path   = './data'\n",
    "num_classes = 10    # MNIST 0~9\n",
    "\n",
    "# Torch variables\n",
    "dtype = torch.float"
   ]
  },
  {
   "cell_type": "code",
   "execution_count": 2,
   "metadata": {},
   "outputs": [],
   "source": [
    "# Download Dataset\n",
    "from torchvision import datasets, transforms\n",
    "\n",
    "# Define a transform\n",
    "transforms = transforms.Compose([\n",
    "             transforms.Resize((28,28)),\n",
    "             transforms.Grayscale(),\n",
    "             transforms.ToTensor(),\n",
    "             transforms.Normalize((0,), (1,))\n",
    "             ])\n",
    "\n",
    "mnist_train = datasets.MNIST(data_path, train=True, download=True, transform=transforms)"
   ]
  },
  {
   "cell_type": "markdown",
   "metadata": {},
   "source": [
    "MNIST 데이터셋은 60,000장의 이미지를 가지고 있다. 빠른 구현을 위해 서브셋으로 전체 데이터의 1/10인 6,000장의 데이터셋을 생성해준다.\n",
    "\n",
    "snntorch.utils는 서브셋을 생성해주는 함수를 포함한다."
   ]
  },
  {
   "cell_type": "code",
   "execution_count": 3,
   "metadata": {},
   "outputs": [
    {
     "name": "stdout",
     "output_type": "stream",
     "text": [
      "The size of mnist_train is 6000\n"
     ]
    }
   ],
   "source": [
    "from snntorch import utils\n",
    "\n",
    "subset_size = 10\n",
    "mnist_train = utils.data_subset(mnist_train, subset_size)\n",
    "\n",
    "print(f'The size of mnist_train is {len(mnist_train)}')"
   ]
  },
  {
   "cell_type": "markdown",
   "metadata": {},
   "source": [
    "위에서 가져온 데이터셋은 메모리에 저장된다. PyTorch의 DataLoader는 이 데이터셋을 배치 단위로 네트워크에 제공해준다."
   ]
  },
  {
   "cell_type": "code",
   "execution_count": 4,
   "metadata": {},
   "outputs": [],
   "source": [
    "from torch.utils.data import DataLoader\n",
    "\n",
    "train_loader = DataLoader(mnist_train, batch_size=batch_size, shuffle=True)"
   ]
  },
  {
   "cell_type": "markdown",
   "metadata": {},
   "source": [
    "# 2. Spike Encoding\n",
    "\n",
    "SNN의 입력으로 데이터를 제공하기 위해 두 가지 방식을 고려할 수 있다. 하나는 동일한 이미지를 매 시간(time step)마다 제공하는 것이고, 다른 하나는 시간에 의존하는(time-varying) spikes(sequence)로 변환하여 제공하는 것이다. 두 번째 방식이 SNN에 더 적합하므로 해당 방식에 대해 알아보겠다.\n",
    "\n",
    "![122spikeinput](images/1_2_2_spikeinput.png)\n",
    "\n",
    "모듈 snntorch.spikegen (i.e., spike generation)은 데이터를 spike sequence로 변환해주는 함수를 내포하고 있다. 이를 사용하여 엔코딩을 수행할 수 있는데 여기에는 세 가지 방식이 존재한다.\n",
    "\n",
    "> 1. Rate coding: spikegen.rate\n",
    ">\n",
    "> 2. Latency coding: spkiegen.latency\n",
    ">\n",
    "> 3. Delta modulation: spikegen.delta"
   ]
  },
  {
   "cell_type": "markdown",
   "metadata": {},
   "source": [
    "## 2.1 Rate coding\n",
    "\n",
    "Rate coding 방식은 spiking frequency에 따라 데이터 신호를 생성한다. 이는 *베르누이 시행(Bernoulli trial)* 을 따른다. 간단히 말해 각 픽셀마다 ON/OFF 두 가지로 상태를 구분하는 것이다. 입력 feature를 $X_{ij}$, rate-coded의 출력을 $R_{ij}$ 라 하면 아래와 같이 표현할 수 있다.\n",
    "\n",
    "> $R_{ij}$ ~ $B(n, p)$\n",
    "\n",
    "여기서 $n$은 총 시행 갯수이고, $p$는 $n$번 시행에 대해 성공할(여기서는 spiking) 확률이다. 만일 $n$이 1이라면 $p$는 $1=X_{ij}$, 즉 원본 이미지 그 자체가 될 것이다.\n",
    "\n",
    "> $P(R_{ij}=1)=X_{ij}=1-P(R_{ij}=0)$\n",
    "\n",
    "아래 코드에서는 모든 요소가 0.5인 벡터를 생성하여, torch.bernoulli()의 입력으로 하였다. torch.bernoulli() 함수의 출력에 대해 설명하자면, 입력 벡터의 각 요소는 (어떤 것이 )성공할 확률이 된다. 그리고 각 인덱스마다 주어진 확률에 따라 성공(1)과 실패(0)가 결정되어 출력된다. 입력 벡터의 모든 값이 0.5 였으므로, 모든 요소가 50%의 확률로 성공하여 대략 절반의 1, 절반의 0으로 구성된 벡터가 출력될 것이다.\n",
    "\n",
    "num_step(==time step)이 커질 수록(무한대에 수렴할 수록) spiking의 성공 확률은 raw_vect의 값과 비슷할 것이다."
   ]
  },
  {
   "cell_type": "code",
   "execution_count": 6,
   "metadata": {},
   "outputs": [
    {
     "name": "stdout",
     "output_type": "stream",
     "text": [
      "Raw vector: tensor([0.5000, 0.5000, 0.5000, 0.5000, 0.5000, 0.5000, 0.5000, 0.5000, 0.5000,\n",
      "        0.5000, 0.5000, 0.5000, 0.5000, 0.5000, 0.5000, 0.5000, 0.5000, 0.5000,\n",
      "        0.5000, 0.5000, 0.5000, 0.5000, 0.5000, 0.5000, 0.5000, 0.5000, 0.5000,\n",
      "        0.5000, 0.5000, 0.5000, 0.5000, 0.5000, 0.5000, 0.5000, 0.5000, 0.5000,\n",
      "        0.5000, 0.5000, 0.5000, 0.5000, 0.5000, 0.5000, 0.5000, 0.5000, 0.5000,\n",
      "        0.5000, 0.5000, 0.5000, 0.5000, 0.5000, 0.5000, 0.5000, 0.5000, 0.5000,\n",
      "        0.5000, 0.5000, 0.5000, 0.5000, 0.5000, 0.5000, 0.5000, 0.5000, 0.5000,\n",
      "        0.5000, 0.5000, 0.5000, 0.5000, 0.5000, 0.5000, 0.5000, 0.5000, 0.5000,\n",
      "        0.5000, 0.5000, 0.5000, 0.5000, 0.5000, 0.5000, 0.5000, 0.5000, 0.5000,\n",
      "        0.5000, 0.5000, 0.5000, 0.5000, 0.5000, 0.5000, 0.5000, 0.5000, 0.5000,\n",
      "        0.5000, 0.5000, 0.5000, 0.5000, 0.5000, 0.5000, 0.5000, 0.5000, 0.5000,\n",
      "        0.5000])\n",
      "Converted vector: tensor([1., 1., 1., 1., 1., 1., 1., 0., 1., 0., 1., 0., 1., 1., 0., 0., 1., 1.,\n",
      "        1., 1., 1., 1., 0., 0., 1., 1., 0., 1., 1., 0., 1., 1., 1., 0., 0., 1.,\n",
      "        1., 1., 0., 0., 1., 0., 0., 0., 0., 0., 1., 1., 0., 1., 0., 1., 0., 0.,\n",
      "        1., 1., 0., 0., 0., 1., 0., 0., 0., 1., 1., 1., 1., 0., 1., 1., 0., 0.,\n",
      "        1., 0., 1., 1., 0., 1., 1., 1., 1., 1., 0., 1., 0., 1., 1., 1., 1., 0.,\n",
      "        1., 0., 0., 0., 0., 0., 1., 0., 0., 0.])\n",
      "The output is spiking 56.00% of the time.\n"
     ]
    }
   ],
   "source": [
    "# Temporal dynamics\n",
    "num_steps = 100       # == time step\n",
    "\n",
    "# Create vector filled with 0.5\n",
    "raw_vect = torch.ones(num_steps) * 0.5       # 각 index마다 spiking 에 성공할 확률\n",
    "print(f'Raw vector: {raw_vect}')\n",
    "\n",
    "# Pass each sample through a Bernoulli trial\n",
    "rate_coded_vect = torch.bernoulli(raw_vect)\n",
    "print(f'Converted vector: {rate_coded_vect}')\n",
    "\n",
    "print(f'The output is spiking {rate_coded_vect.sum()*100/len(rate_coded_vect):.2f}% of the time.')"
   ]
  },
  {
   "cell_type": "markdown",
   "metadata": {},
   "source": [
    "MNIST 이미지에 위와 같이 베르누이 시행을 적용하여 rate coded 데이터로 변환하면 SNN의 입력으로 하고자 하는 spike sequence로 변환할 수 있다.\n",
    "\n",
    "![123spikeconv](images/1_2_3_spikeconv.png)"
   ]
  },
  {
   "cell_type": "code",
   "execution_count": 7,
   "metadata": {},
   "outputs": [
    {
     "name": "stdout",
     "output_type": "stream",
     "text": [
      "torch.Size([100, 128, 1, 28, 28])\n"
     ]
    }
   ],
   "source": [
    "from snntorch import spikegen\n",
    "\n",
    "# Iterate through minibatches\n",
    "data = iter(train_loader)\n",
    "data_it, targets_it = next(data)\n",
    "\n",
    "# Spiking data\n",
    "spike_data = spikegen.rate(data_it, num_steps=num_steps)        # gain=1.0(default), gain의 값을 변경하여 spiking의 정도를 수정할 수 있다.\n",
    "print(spike_data.size())        # num_steps x batch_size x input dimensions"
   ]
  },
  {
   "cell_type": "code",
   "execution_count": 9,
   "metadata": {},
   "outputs": [
    {
     "name": "stdout",
     "output_type": "stream",
     "text": [
      "torch.Size([100, 28, 28])\n"
     ]
    },
    {
     "data": {
      "text/plain": [
       "torch.Size([100, 28, 28])"
      ]
     },
     "execution_count": 9,
     "metadata": {},
     "output_type": "execute_result"
    }
   ],
   "source": [
    "# Visualization\n",
    "\n",
    "import matplotlib.pyplot as plt\n",
    "import snntorch.spikeplot as splt\n",
    "from IPython.display import HTML\n",
    "\n",
    "spike_data_sample = spike_data[:, 0, 0]\n",
    "print(spike_data_sample.size())\n",
    "torch.Size([100, 28, 28])"
   ]
  },
  {
   "cell_type": "code",
   "execution_count": 10,
   "metadata": {},
   "outputs": [],
   "source": [
    "spike_data = spikegen.rate(data_it, num_steps=num_steps, gain=0.25)     # gain=1.0(default), gain의 값을 변경하여 spiking의 정도를 수정할 수 있다.\n",
    "\n",
    "spike_data_sample2 = spike_data[:, 0, 0]"
   ]
  },
  {
   "cell_type": "code",
   "execution_count": 11,
   "metadata": {},
   "outputs": [
    {
     "data": {
      "image/png": "[encoded data removed]",
      "text/plain": [
       "<Figure size 640x480 with 2 Axes>"
      ]
     },
     "metadata": {},
     "output_type": "display_data"
    }
   ],
   "source": [
    "plt.figure(facecolor=\"w\")\n",
    "plt.subplot(1,2,1)\n",
    "plt.imshow(spike_data_sample.mean(axis=0).reshape((28,-1)).cpu(), cmap='binary')\n",
    "plt.axis('off')\n",
    "plt.title('Gain = 1')\n",
    "\n",
    "plt.subplot(1,2,2)\n",
    "plt.imshow(spike_data_sample2.mean(axis=0).reshape((28,-1)).cpu(), cmap='binary')\n",
    "plt.axis('off')\n",
    "plt.title('Gain = 0.25')\n",
    "\n",
    "plt.show()"
   ]
  },
  {
   "cell_type": "markdown",
   "metadata": {},
   "source": [
    "Raster plot으로 생성하여 보일 수도 있다. 이를 위해서는 2D 텐서로 reshape이 필요하다. 다음 그래프는 시간축에 대한 뉴런의 개수를 표현한 것이다."
   ]
  },
  {
   "cell_type": "code",
   "execution_count": 12,
   "metadata": {},
   "outputs": [
    {
     "data": {
      "image/png": "[encoded data removed]",
      "text/plain": [
       "<Figure size 1000x500 with 1 Axes>"
      ]
     },
     "metadata": {},
     "output_type": "display_data"
    }
   ],
   "source": [
    "# Reshape\n",
    "spike_data_sample2 = spike_data_sample2.reshape((num_steps, -1))\n",
    "\n",
    "# raster plot\n",
    "fig = plt.figure(facecolor=\"w\", figsize=(10, 5))\n",
    "ax = fig.add_subplot(111)\n",
    "splt.raster(spike_data_sample2, ax, s=1.5, c=\"black\")\n",
    "\n",
    "plt.title(\"Input Layer\")\n",
    "plt.xlabel(\"Time step\")\n",
    "plt.ylabel(\"Neuron Number\")\n",
    "plt.show()"
   ]
  },
  {
   "cell_type": "code",
   "execution_count": null,
   "metadata": {},
   "outputs": [],
   "source": []
  }
 ],
 "metadata": {
  "kernelspec": {
   "display_name": "Python 3.8.10 ('SNN-Torch-Practice')",
   "language": "python",
   "name": "python3"
  },
  "language_info": {
   "codemirror_mode": {
    "name": "ipython",
    "version": 3
   },
   "file_extension": ".py",
   "mimetype": "text/x-python",
   "name": "python",
   "nbconvert_exporter": "python",
   "pygments_lexer": "ipython3",
   "version": "3.8.10"
  },
  "orig_nbformat": 4,
  "vscode": {
   "interpreter": {
    "hash": "683a7b102b596254c395704dcf4840313938b4a008d6dc868d87bbb00d08873e"
   }
  }
 },
 "nbformat": 4,
 "nbformat_minor": 2
}
