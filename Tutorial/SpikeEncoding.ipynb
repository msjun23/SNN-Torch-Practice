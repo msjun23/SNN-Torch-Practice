{
 "cells": [
  {
   "cell_type": "markdown",
   "metadata": {},
   "source": [
    "# Tutorial 1 - Spike Encoding\n",
    "\n",
    "## Learn how to\n",
    "- convert datasets into spiking datasets\n",
    "- how to visualize them\n",
    "- how to generate random spike trains\n",
    "\n",
    "MNIST 데이터셋을 SNN으로 학습하기 위한 spiking dataset으로 변환하고 사용하는 방법에 대해 공부한다."
   ]
  },
  {
   "cell_type": "code",
   "execution_count": null,
   "metadata": {},
   "outputs": [],
   "source": [
    "import snntorch as snn\n",
    "import torch\n",
    "\n",
    "# Traning params\n",
    "batch_size  = 128\n",
    "data_path   = '/data/mnist'\n",
    "num_classes = 10    # MNIST 0~9\n",
    "\n",
    "# Torch variables\n",
    "dtype = torch.float"
   ]
  }
 ],
 "metadata": {
  "language_info": {
   "name": "python"
  },
  "orig_nbformat": 4
 },
 "nbformat": 4,
 "nbformat_minor": 2
}
