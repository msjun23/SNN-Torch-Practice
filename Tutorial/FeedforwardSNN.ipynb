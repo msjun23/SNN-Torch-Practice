{
 "cells": [
  {
   "cell_type": "markdown",
   "metadata": {},
   "source": [
    "# Tutorial 3 - A Feedforward Spiking Neural Network\n",
    "\n",
    "## Learn hot to\n",
    "- simplify the LIF neuron to make it deep learning-friendly\n",
    "- implement a feedforward SNN\n",
    "\n",
    "> 실제 딥러닝에 적용하기 위해 LIF 뉴런 모델을 간소화하는 것과, 순전파 SNN을 구현해본다.\n",
    "\n",
    "---"
   ]
  },
  {
   "cell_type": "markdown",
   "metadata": {},
   "source": []
  }
 ],
 "metadata": {
  "kernelspec": {
   "display_name": "Python 3.8.10 ('SNN-Torch-Practice')",
   "language": "python",
   "name": "python3"
  },
  "language_info": {
   "name": "python",
   "version": "3.8.10"
  },
  "orig_nbformat": 4,
  "vscode": {
   "interpreter": {
    "hash": "683a7b102b596254c395704dcf4840313938b4a008d6dc868d87bbb00d08873e"
   }
  }
 },
 "nbformat": 4,
 "nbformat_minor": 2
}
