{
 "cells": [
  {
   "cell_type": "markdown",
   "metadata": {},
   "source": [
    "# Tutorial 3 - A Feedforward Spiking Neural Network\n",
    "\n",
    "## Learn hot to\n",
    "- simplify the LIF neuron to make it deep learning-friendly\n",
    "- implement a feedforward SNN\n",
    "\n",
    "> 실제 딥러닝에 적용하기 위해 LIF 뉴런 모델을 간소화하는 것과, 순전파 SNN을 구현해본다.\n",
    "\n",
    "---"
   ]
  },
  {
   "cell_type": "code",
   "execution_count": 2,
   "metadata": {},
   "outputs": [],
   "source": [
    "import snntorch as snn\n",
    "import torch\n",
    "import matplotlib.pyplot as plt\n",
    "\n",
    "from snntorch import spikeplot as splt\n",
    "from snntorch import spikegen"
   ]
  },
  {
   "cell_type": "code",
   "execution_count": 3,
   "metadata": {},
   "outputs": [],
   "source": [
    "def LeakyIntegrate_and_Fire(prev_mem, x, w, beta, threshold=1):\n",
    "    # prev_mem : previous membrane output\n",
    "    # x        : current input signal\n",
    "    # w        : weight for current input\n",
    "    # beta     : decay rate\n",
    "    # threshold: neuron threshold for spike output\n",
    "    \n",
    "    spk = (prev_mem > threshold)     # If membrane exceeds threshold, spk = 1, else = 0\n",
    "    mem = beta * prev_mem + w*x - spk*threshold\n",
    "    return spk, mem"
   ]
  },
  {
   "cell_type": "code",
   "execution_count": 4,
   "metadata": {},
   "outputs": [
    {
     "name": "stdout",
     "output_type": "stream",
     "text": [
      "The decay rate is: 0.819\n"
     ]
    }
   ],
   "source": [
    "# Set neuronal params\n",
    "delta_t = torch.tensor(1e-3)\n",
    "tau     = torch.tensor(5e-3)\n",
    "beta    = torch.exp(-delta_t/tau)\n",
    "\n",
    "print(f'The decay rate is: {beta:.3f}')"
   ]
  },
  {
   "cell_type": "code",
   "execution_count": null,
   "metadata": {},
   "outputs": [],
   "source": []
  }
 ],
 "metadata": {
  "kernelspec": {
   "display_name": "Python 3.8.10 ('SNN-Torch-Practice')",
   "language": "python",
   "name": "python3"
  },
  "language_info": {
   "codemirror_mode": {
    "name": "ipython",
    "version": 3
   },
   "file_extension": ".py",
   "mimetype": "text/x-python",
   "name": "python",
   "nbconvert_exporter": "python",
   "pygments_lexer": "ipython3",
   "version": "3.8.10"
  },
  "orig_nbformat": 4,
  "vscode": {
   "interpreter": {
    "hash": "683a7b102b596254c395704dcf4840313938b4a008d6dc868d87bbb00d08873e"
   }
  }
 },
 "nbformat": 4,
 "nbformat_minor": 2
}
