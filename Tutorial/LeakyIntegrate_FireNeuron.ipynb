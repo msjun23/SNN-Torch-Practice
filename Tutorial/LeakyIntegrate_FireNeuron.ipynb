{
 "cells": [
  {
   "cell_type": "markdown",
   "metadata": {},
   "source": [
    "# Tutorial 2 - The Leaky Integrate and Fire Neuron\n",
    "\n",
    "## Learn about\n",
    "- fundamentals of the leaky integrate-and-fire(LIF) neuron model\n",
    "- snnTorch to implement a first order LIF neuron\n",
    "\n",
    "> LIF 뉴런 모델의 기초에 대해 공부하고, snntorch를 사용하여 1차 LIF 뉴런을 구현해본다.\n",
    "\n",
    "---"
   ]
  },
  {
   "cell_type": "markdown",
   "metadata": {},
   "source": [
    "# 1. Neuron models\n",
    "\n",
    "인간의 신경망을 모티브로 하는 NN 모델은 다음과 같이 나뉜다.\n",
    "\n",
    "![21](./images/2_1_neuronmodels.png)\n",
    "\n",
    "좌측 모델은 실제 신경망과 가장 유사하지만, 현재로써는 구현이 어려운 단계라고 한다. 반면에 우측 모델은 흔히 알고있는 NN의 모델로 신경망을 간소화하여 사용이 용이하게 구현한 모습이다. 본 튜토리얼에서 알아보고자 하는 것이 바로 그 중간 단계인 LIF 뉴런 모델이다. 연속적인 입력 신호의 weighted sum을 사용하여 임계치를 넘기면 해당 뉴런을 활성화 하는 신경망이라고 요약할 수 있겠다.\n",
    "\n",
    "snnTorch는 다음과 같은 LIF 뉴런 모델들을 지원한다.\n",
    "\n",
    "> - Lapicque’s RC model: snntorch.Lapicque\n",
    "> \n",
    "> - 1st-order model: snntorch.Leaky\n",
    "> \n",
    "> - Synaptic Conductance-based neuron model: snntorch.Synaptic\n",
    "> \n",
    "> - Recurrent 1st-order model: snntorch.RLeaky\n",
    "> \n",
    "> - Recurrent Synaptic Conductance-based neuron model: snntorch.RSynaptic\n",
    "> \n",
    "> - Alpha neuron model: snntorch.Alpha\n",
    "\n",
    "본 챕터에서는 위 모델들 중 가장 기본이되는 *Lapicque's model*에 대해 알아본다. 해당 모델은 향후 실제 SNN을 구현하는데 직접적으로 사용되지는 않지만 이후 등장할 LIF 모델들의 기초가 된다."
   ]
  },
  {
   "cell_type": "markdown",
   "metadata": {},
   "source": []
  }
 ],
 "metadata": {
  "kernelspec": {
   "display_name": "Python 3.8.10 ('SNN-Torch-Practice')",
   "language": "python",
   "name": "python3"
  },
  "language_info": {
   "name": "python",
   "version": "3.8.10"
  },
  "orig_nbformat": 4,
  "vscode": {
   "interpreter": {
    "hash": "683a7b102b596254c395704dcf4840313938b4a008d6dc868d87bbb00d08873e"
   }
  }
 },
 "nbformat": 4,
 "nbformat_minor": 2
}
