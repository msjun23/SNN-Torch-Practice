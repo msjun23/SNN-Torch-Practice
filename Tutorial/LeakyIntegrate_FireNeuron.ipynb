{
 "cells": [
  {
   "cell_type": "markdown",
   "metadata": {},
   "source": [
    "# Tutorial 2 - The Leaky Integrate and Fire Neuron\n",
    "\n",
    "## Learn about\n",
    "- fundamentals of the leaky integrate-and-fire(LIF) neuron model\n",
    "- snnTorch to implement a first order LIF neuron\n",
    "\n",
    "> LIF 뉴런 모델의 기초에 대해 공부하고, snntorch를 사용하여 1차 LIF 뉴런을 구현해본다.\n",
    "\n",
    "---"
   ]
  },
  {
   "cell_type": "markdown",
   "metadata": {},
   "source": [
    "# 1. Neuron models\n",
    "\n",
    "인간의 신경망을 모티브로 하는 NN 모델은 다음과 같이 나뉜다.\n",
    "\n",
    "![21](./images/2_1_neuronmodels.png)\n",
    "\n",
    "좌측 모델은 실제 신경망과 가장 유사하지만, 현재로써는 구현이 어려운 단계라고 한다. 반면에 우측 모델은 흔히 알고있는 NN의 모델로 신경망을 간소화하여 사용이 용이하게 구현한 모습이다. 본 튜토리얼에서 알아보고자 하는 것이 바로 그 중간 단계인 LIF 뉴런 모델이다. 연속적인 입력 신호의 weighted sum을 사용하여 임계치를 넘기면 해당 뉴런을 활성화 하는 신경망이라고 요약할 수 있겠다.\n",
    "\n",
    "snnTorch는 다음과 같은 LIF 뉴런 모델들을 지원한다.\n",
    "\n",
    "> - Lapicque’s RC model: snntorch.Lapicque\n",
    "> \n",
    "> - 1st-order model: snntorch.Leaky\n",
    "> \n",
    "> - Synaptic Conductance-based neuron model: snntorch.Synaptic\n",
    "> \n",
    "> - Recurrent 1st-order model: snntorch.RLeaky\n",
    "> \n",
    "> - Recurrent Synaptic Conductance-based neuron model: snntorch.RSynaptic\n",
    "> \n",
    "> - Alpha neuron model: snntorch.Alpha\n",
    "\n",
    "본 챕터에서는 위 모델들 중 가장 기본이되는 *Lapicque's model*에 대해 알아본다. 해당 모델은 향후 실제 SNN을 구현하는데 직접적으로 사용되지는 않지만 이후 등장할 LIF 모델들의 기초가 된다."
   ]
  },
  {
   "cell_type": "markdown",
   "metadata": {},
   "source": [
    "# 2. The LIF Neuron model\n",
    "\n",
    "LIF(Leaky Integrate-and-Fire) 뉴런 모델은 시간에 따른 입력 신호(spike)들의 weighted sum이 뉴런을 활성화 시키는 임계치를 넘겼을 때, 해당 뉴런이 활성화되어 다음 뉴런으로 향하는 출력 신호(spike)를 내보내는 모델이다. 모델에 대한 자세한 설명은 실제 뉴런 구조의 작동 방식을 RC 회로에 비유하여 설명 가능하다.\n",
    "\n",
    "사람의 신경망, 뉴런은 멤브레인(membrane)으로 감싸져 있는데 외부 자극(spike)가 이 멤브레이을 뚫고 뉴런들 간의 전기 신호를 전달한다. 멤브레인 사이사이의 전기 신호가 드나들 수 있는 공간인 이온 채널(ion channel)을 저항(registor), 멤브레인 자체를 캐패시터(capacitor)로 변환하여 RC 회로를 그릴 수 있고, 해당 회로에 전류를 인가하는 것으로(current source RC circuit) 뉴런에 전기 신호가 가해진다고 상정할 수 있다.\n",
    "\n",
    "![23](./images/2_3_passivemembrane.png)\n",
    "\n",
    "위와 같은 회로에서 저항과 캐패시터 양극단에 걸리는 전압을 $U_{mem}(t)$ 이라 하고, $U_{mem}(t)$ 의 미분 텀으로 정리한 후 미분 방정식을 풀어주면 아래와 같이 $U_{mem}(t)$ 을 구할 수 있다.\n",
    "\n",
    "![24](./images/2_4_RCmembrane.png)\n",
    "\n"
   ]
  },
  {
   "cell_type": "markdown",
   "metadata": {},
   "source": []
  }
 ],
 "metadata": {
  "kernelspec": {
   "display_name": "Python 3.8.10 ('SNN-Torch-Practice')",
   "language": "python",
   "name": "python3"
  },
  "language_info": {
   "name": "python",
   "version": "3.8.10"
  },
  "orig_nbformat": 4,
  "vscode": {
   "interpreter": {
    "hash": "683a7b102b596254c395704dcf4840313938b4a008d6dc868d87bbb00d08873e"
   }
  }
 },
 "nbformat": 4,
 "nbformat_minor": 2
}
